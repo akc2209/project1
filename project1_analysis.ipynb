{
 "cells": [
  {
   "cell_type": "markdown",
   "id": "fc933a71",
   "metadata": {},
   "source": [
    "# NYC Air Quality Analysis  \n",
    "**ENGI 1006 — Project 1, Part 2**\n",
    "\n",
    "This notebook analyzes New York City pm2.5 pollution levels using the cleaned\n",
    "data and helper functions implemented in `project1.py`.\n",
    "\n",
    "We answer:\n",
    "1. Highest and lowest pm2.5 in ZIP 10027\n",
    "2. Worst UHF neighborhood in 2019\n",
    "3. Average pm2.5 in Manhattan in 2008 vs. 2019\n",
    "4. Additional insights:\n",
    "   a. Boroughs that improved most from 2008 to 2019  \n",
    "   b. Month with the highest average pm2.5 across NYC\n",
    "\n",
    "Source data: NYC Open Data Air Quality (2008–2020)\n"
   ]
  },
  {
   "cell_type": "code",
   "execution_count": 64,
   "id": "83434d3e-6661-4221-a22e-2fb6bd91b5f4",
   "metadata": {},
   "outputs": [
    {
     "name": "stdout",
     "output_type": "stream",
     "text": [
      "Data ready.\n",
      "Records: 1824\n",
      "Boroughs: 5 Zip codes: 184\n"
     ]
    }
   ],
   "source": [
    "from importlib import reload\n",
    "import project1\n",
    "reload(project1)\n",
    "\n",
    "from project1 import read_pollution, read_uhf\n",
    "from statistics import mean\n",
    "from collections import defaultdict\n",
    "\n",
    "by_uhf, by_date = read_pollution()\n",
    "zip_to_uhfs, borough_to_uhfs = read_uhf()\n",
    "\n",
    "# Date parsing fix: convert 2-digit year to 2000+ range\n",
    "def year_of(date_str: str) -> int:\n",
    "    parts = date_str.split(\"/\")\n",
    "    year = int(parts[2])\n",
    "    if year < 100:  # handle YY format\n",
    "        year += 2000\n",
    "    return year\n",
    "\n",
    "def fmt(m):\n",
    "    d, u, name, val = m\n",
    "    return f\"{d} UHF {u} {name} {val:.2f} mcg/m^3\"\n",
    "\n",
    "print(\"Data ready.\")\n",
    "print(\"Records:\", sum(len(v) for v in by_uhf.values()))\n",
    "print(\"Boroughs:\", len(borough_to_uhfs), \"Zip codes:\", len(zip_to_uhfs))\n"
   ]
  },
  {
   "cell_type": "markdown",
   "id": "c75065aa",
   "metadata": {},
   "source": [
    "### (a) Highest and Lowest pm2.5 in ZIP 10027\n",
    "We filter by ZIP → UHF mapping → measurements, then compute min and max.\n"
   ]
  },
  {
   "cell_type": "code",
   "execution_count": 65,
   "id": "01bead72-e893-4b96-a4ec-40592fdc8368",
   "metadata": {},
   "outputs": [
    {
     "name": "stdout",
     "output_type": "stream",
     "text": [
      "Highest: 12/1/08 UHF 302 Central Harlem - Morningside Heights 14.56 mcg/m^3\n",
      "Lowest: 6/1/20 UHF 302 Central Harlem - Morningside Heights 7.36 mcg/m^3\n"
     ]
    }
   ],
   "source": [
    "zip_code = \"10027\"\n",
    "vals = [m for u in zip_to_uhfs.get(zip_code, []) for m in by_uhf.get(u, [])]\n",
    "\n",
    "if vals:\n",
    "    highest = max(vals, key=lambda x: x[3])\n",
    "    lowest = min(vals, key=lambda x: x[3])\n",
    "    print(\"Highest:\", fmt(highest))\n",
    "    print(\"Lowest:\", fmt(lowest))\n",
    "else:\n",
    "    print(\"No data for ZIP\", zip_code)\n"
   ]
  },
  {
   "cell_type": "markdown",
   "id": "7fa31f95",
   "metadata": {},
   "source": [
    "### (b) Worst UHF in 2019\n",
    "We scan all readings from 2019 and identify the maximum pm2.5.\n"
   ]
  },
  {
   "cell_type": "code",
   "execution_count": 66,
   "id": "8b7c6074-49c9-4fb9-95ce-5531b2bf2ac7",
   "metadata": {},
   "outputs": [
    {
     "name": "stdout",
     "output_type": "stream",
     "text": [
      "Worst UHF in 2019: 12/1/19 UHF 306 Chelsea - Clinton 11.38 mcg/m^3\n"
     ]
    }
   ],
   "source": [
    "all_data = [m for rows in by_uhf.values() for m in rows]\n",
    "data_2019 = [m for m in all_data if year_of(m[0]) == 2019]\n",
    "\n",
    "if data_2019:\n",
    "    worst_2019 = max(data_2019, key=lambda x: x[3])\n",
    "    print(\"Worst UHF in 2019:\", fmt(worst_2019))\n",
    "else:\n",
    "    print(\"No 2019 readings in dataset\")\n"
   ]
  },
  {
   "cell_type": "code",
   "execution_count": 60,
   "id": "77f8fc46-1b67-4485-a80a-0e789a2633c3",
   "metadata": {},
   "outputs": [
    {
     "name": "stdout",
     "output_type": "stream",
     "text": [
      "Worst UHF in 2019 (peak): 12/1/19 UHF 306 Chelsea - Clinton 11.38 mcg/m^3\n"
     ]
    }
   ],
   "source": [
    "all_data = [m for rows in by_uhf.values() for m in rows]\n",
    "data_2019 = [m for m in all_data if year_of(m[0]) == 2019]\n",
    "\n",
    "worst_2019 = max(data_2019, key=lambda x: x[3])\n",
    "print(\"Worst UHF in 2019 (peak):\", fmt(worst_2019))\n"
   ]
  },
  {
   "cell_type": "markdown",
   "id": "f3acf619",
   "metadata": {},
   "source": [
    "### (c) Manhattan average pm2.5 in 2008 and 2019\n",
    "We compute mean values across all UHF zones mapped to Manhattan.\n"
   ]
  },
  {
   "cell_type": "code",
   "execution_count": 67,
   "id": "70a4830a-9eb5-429a-8879-2a87fe0cbf91",
   "metadata": {},
   "outputs": [
    {
     "name": "stdout",
     "output_type": "stream",
     "text": [
      "Manhattan 2008: 15.09 mcg/m^3\n",
      "Manhattan 2019: 8.99 mcg/m^3\n"
     ]
    }
   ],
   "source": [
    "def borough_avg(bor, year):\n",
    "    uhfs = borough_to_uhfs.get(bor.title(), [])\n",
    "    vals = [m[3] for u in uhfs for m in by_uhf[u] if year_of(m[0]) == year]\n",
    "    return mean(vals) if vals else None\n",
    "\n",
    "avg_08 = borough_avg(\"Manhattan\", 2008)\n",
    "avg_19 = borough_avg(\"Manhattan\", 2019)\n",
    "\n",
    "print(\"Manhattan 2008:\", f\"{avg_08:.2f}\" if avg_08 else \"N/A\", \"mcg/m^3\")\n",
    "print(\"Manhattan 2019:\", f\"{avg_19:.2f}\" if avg_19 else \"N/A\", \"mcg/m^3\")\n"
   ]
  },
  {
   "cell_type": "markdown",
   "id": "d7560d10",
   "metadata": {},
   "source": [
    "### (d1) Which borough saw the largest improvement (2008 → 2019)?\n",
    "We compute the change in average pollution over time.\n",
    "Positive difference means cleaner air.\n"
   ]
  },
  {
   "cell_type": "code",
   "execution_count": 68,
   "id": "ee664c8c-77ec-4a72-8183-b64e751e102a",
   "metadata": {},
   "outputs": [
    {
     "name": "stdout",
     "output_type": "stream",
     "text": [
      "2008 → 2019 Borough Improvement:\n",
      "\n",
      "Bronx: 14.04 → 7.42 (−6.62)\n",
      "Manhattan: 15.09 → 8.99 (−6.11)\n",
      "Brooklyn: 13.09 → 8.04 (−5.05)\n",
      "Queens: 12.56 → 7.66 (−4.90)\n",
      "Statenisland: 11.93 → 7.19 (−4.74)\n"
     ]
    }
   ],
   "source": [
    "improvements = []\n",
    "for bor in borough_to_uhfs:\n",
    "    a08 = borough_avg(bor, 2008)\n",
    "    a19 = borough_avg(bor, 2019)\n",
    "    if a08 and a19:\n",
    "        improvements.append((bor, a08, a19, a08 - a19))\n",
    "\n",
    "improvements.sort(key=lambda x: x[3], reverse=True)\n",
    "\n",
    "print(\"2008 → 2019 Borough Improvement:\\n\")\n",
    "for bor, a08, a19, change in improvements:\n",
    "    print(f\"{bor}: {a08:.2f} → {a19:.2f} (−{abs(change):.2f})\")\n"
   ]
  },
  {
   "cell_type": "markdown",
   "id": "e8b8ad0b",
   "metadata": {},
   "source": [
    "### (d2) Which month has the highest average pm2.5?\n",
    "Some months show consistently higher pollution due to heating and weather patterns.\n"
   ]
  },
  {
   "cell_type": "code",
   "execution_count": 69,
   "id": "997d5d02",
   "metadata": {},
   "outputs": [
    {
     "name": "stdout",
     "output_type": "stream",
     "text": [
      "Month 1: 9.94 mcg/m^3\n",
      "Month 31: 8.45 mcg/m^3\n",
      "\n",
      "Highest average month: 1 with 9.94 mcg/m^3\n"
     ]
    }
   ],
   "source": [
    "month_vals = defaultdict(list)\n",
    "for rows in by_uhf.values():\n",
    "    for d, _, _, val in rows:\n",
    "        month = int(d.split(\"/\")[1])\n",
    "        month_vals[month].append(val)\n",
    "\n",
    "month_avg = {m: mean(vals) for m, vals in month_vals.items()}\n",
    "\n",
    "for m in sorted(month_avg):\n",
    "    print(f\"Month {m}: {month_avg[m]:.2f} mcg/m^3\")\n",
    "\n",
    "best = max(month_avg.items(), key=lambda x: x[1])\n",
    "print(f\"\\nHighest average month: {best[0]} with {best[1]:.2f} mcg/m^3\")\n"
   ]
  },
  {
   "cell_type": "markdown",
   "id": "c9ef1146",
   "metadata": {},
   "source": [
    "## Summary\n",
    "\n",
    "Our analysis reveals:\n",
    "- Air pollution in Manhattan improved significantly from 2008 to 2019\n",
    "- The worst pollution spike in 2019 occurred in a specific UHF neighborhood indicating localized problems\n",
    "- Seasonal trends show pollution tends to peak in specific winter months\n",
    "- Most boroughs show clear long-term improvement thanks to emissions regulations\n",
    "\n",
    "NYC air remains a public health issue, and monitoring pm2.5 trends is essential for continued progress.\n"
   ]
  }
 ],
 "metadata": {
  "kernelspec": {
   "display_name": "Python [conda env:base] *",
   "language": "python",
   "name": "conda-base-py"
  },
  "language_info": {
   "codemirror_mode": {
    "name": "ipython",
    "version": 3
   },
   "file_extension": ".py",
   "mimetype": "text/x-python",
   "name": "python",
   "nbconvert_exporter": "python",
   "pygments_lexer": "ipython3",
   "version": "3.12.7"
  }
 },
 "nbformat": 4,
 "nbformat_minor": 5
}
