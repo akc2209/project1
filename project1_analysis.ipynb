{
 "cells": [
  {
   "cell_type": "code",
   "execution_count": null,
   "id": "69c2f039-4bdd-42e3-8a93-943ba16efdcc",
   "metadata": {},
   "outputs": [],
   "source": [
    "# Import functions from project1.py\n",
    "from project1 import read_air_quality, read_uhf\n",
    "\n",
    "# Load data\n",
    "uhf_dict, date_dict = read_air_quality(\"air_quality.csv\")\n",
    "zip_to_uhf, borough_to_uhf = read_uhf(\"uhf.csv\")\n",
    "\n",
    "print(\"Data successfully loaded!\")\n",
    "print(f\"Number of UHF regions: {len(uhf_dict)}\")\n",
    "print(f\"Number of unique dates: {len(date_dict)}\")"
   ]
  },
  {
   "cell_type": "code",
   "execution_count": null,
   "id": "83434d3e-6661-4221-a22e-2fb6bd91b5f4",
   "metadata": {},
   "outputs": [],
   "source": [
    "def get_measurements_for_zip(zip_code):\n",
    "    \"\"\"Return all air quality measurements for a given ZIP.\"\"\"\n",
    "    uhf_ids = zip_to_uhf.get(zip_code, [])\n",
    "    results = []\n",
    "    for uid in uhf_ids:\n",
    "        if uid in uhf_dict:\n",
    "            results.extend(uhf_dict[uid])\n",
    "    return results\n",
    "\n",
    "\n",
    "def get_measurements_for_borough(borough):\n",
    "    \"\"\"Return all air quality measurements for a given borough.\"\"\"\n",
    "    uhf_ids = borough_to_uhf.get(borough, [])\n",
    "    results = []\n",
    "    for uid in uhf_ids:\n",
    "        if uid in uhf_dict:\n",
    "            results.extend(uhf_dict[uid])\n",
    "    return results\n",
    "\n",
    "\n",
    "def get_measurements_for_year(year):\n",
    "    \"\"\"Return all measurements for a specific year.\"\"\"\n",
    "    results = []\n",
    "    for date, entries in date_dict.items():\n",
    "        if str(year) in date:\n",
    "            results.extend(entries)\n",
    "    return results\n",
    "\n",
    "\n",
    "def avg_pm(measurements):\n",
    "    \"\"\"Return the average PM2.5 for a list of measurements.\"\"\"\n",
    "    if not measurements:\n",
    "        return None\n",
    "    total = 0\n",
    "    count = 0\n",
    "    for (_, _, _, pm) in measurements:\n",
    "        try:\n",
    "            total += float(pm)\n",
    "            count += 1\n",
    "        except ValueError:\n",
    "            pass\n",
    "    return total / count if count > 0 else None"
   ]
  },
  {
   "cell_type": "code",
   "execution_count": null,
   "id": "6cba481b-8cbd-4143-ad25-76bbcfd9b3e7",
   "metadata": {},
   "outputs": [],
   "source": [
    "#hello"
   ]
  },
  {
   "cell_type": "code",
   "execution_count": null,
   "id": "01bead72-e893-4b96-a4ec-40592fdc8368",
   "metadata": {},
   "outputs": [],
   "source": [
    "zip_code = \"10463\"  # example ZIP\n",
    "\n",
    "data = get_measurements_for_zip(zip_code)\n",
    "if data:\n",
    "    max_entry = max(data, key=lambda x: float(x[3]))\n",
    "    min_entry = min(data, key=lambda x: float(x[3]))\n",
    "    \n",
    "    print(f\"ZIP {zip_code} → Highest PM2.5: {max_entry[3]} mcg/m³ on {max_entry[2]} ({max_entry[1]})\")\n",
    "    print(f\"ZIP {zip_code} → Lowest PM2.5: {min_entry[3]} mcg/m³ on {min_entry[2]} ({min_entry[1]})\")\n",
    "else:\n",
    "    print(f\"No data found for ZIP {zip_code}.\")"
   ]
  },
  {
   "cell_type": "code",
   "execution_count": null,
   "id": "8b7c6074-49c9-4fb9-95ce-5531b2bf2ac7",
   "metadata": {},
   "outputs": [],
   "source": [
    "year = 2019\n",
    "year_data = get_measurements_for_year(year)\n",
    "\n",
    "uhf_averages = {}\n",
    "for geo_id, entries in uhf_dict.items():\n",
    "    relevant = [e for e in entries if str(year) in e[2]]\n",
    "    avg = avg_pm(relevant)\n",
    "    if avg is not None:\n",
    "        uhf_averages[geo_id] = avg\n",
    "\n",
    "if uhf_averages:\n",
    "    worst_uhf = max(uhf_averages, key=uhf_averages.get)\n",
    "    print(f\"Worst UHF ID in {year}: {worst_uhf} with average PM2.5 = {uhf_averages[worst_uhf]:.2f} mcg/m³\")\n",
    "else:\n",
    "    print(f\"No UHF data found for {year}.\")"
   ]
  },
  {
   "cell_type": "code",
   "execution_count": null,
   "id": "77f8fc46-1b67-4485-a80a-0e789a2633c3",
   "metadata": {},
   "outputs": [],
   "source": [
    "for year in [2008, 2019]:\n",
    "    print(f\"\\nAverage PM2.5 by borough in {year}:\")\n",
    "    for borough in borough_to_uhf.keys():\n",
    "        measurements = []\n",
    "        for m in get_measurements_for_borough(borough):\n",
    "            if str(year) in m[2]:\n",
    "                measurements.append(m)\n",
    "        avg = avg_pm(measurements)\n",
    "        if avg:\n",
    "            print(f\"  {borough}: {avg:.2f} mcg/m³\")\n",
    "        else:\n",
    "            print(f\"  {borough}: No data\")"
   ]
  },
  {
   "cell_type": "code",
   "execution_count": null,
   "id": "70a4830a-9eb5-429a-8879-2a87fe0cbf91",
   "metadata": {},
   "outputs": [],
   "source": [
    "borough_avgs = {}\n",
    "for borough in borough_to_uhf.keys():\n",
    "    measurements = get_measurements_for_borough(borough)\n",
    "    avg = avg_pm(measurements)\n",
    "    if avg:\n",
    "        borough_avgs[borough] = avg\n",
    "\n",
    "if borough_avgs:\n",
    "    cleanest = min(borough_avgs, key=borough_avgs.get)\n",
    "    print(f\"Cleanest borough overall: {cleanest} ({borough_avgs[cleanest]:.2f} mcg/m³)\")\n",
    "else:\n",
    "    print(\"No borough data found.\")"
   ]
  },
  {
   "cell_type": "code",
   "execution_count": null,
   "id": "ee664c8c-77ec-4a72-8183-b64e751e102a",
   "metadata": {},
   "outputs": [],
   "source": [
    "date_avgs = {}\n",
    "for date, entries in date_dict.items():\n",
    "    avg = avg_pm(entries)\n",
    "    if avg:\n",
    "        date_avgs[date] = avg\n",
    "\n",
    "if date_avgs:\n",
    "    worst_date = max(date_avgs, key=date_avgs.get)\n",
    "    print(f\"Most polluted day: {worst_date} with citywide average {date_avgs[worst_date]:.2f} mcg/m³\")\n",
    "else:\n",
    "    print(\"No date averages found.\")"
   ]
  },
  {
   "cell_type": "code",
   "execution_count": null,
   "id": "9ba0cf03-5616-437b-a456-3926274df1f6",
   "metadata": {},
   "outputs": [],
   "source": []
  }
 ],
 "metadata": {
  "kernelspec": {
   "display_name": "Python [conda env:base] *",
   "language": "python",
   "name": "conda-base-py"
  },
  "language_info": {
   "codemirror_mode": {
    "name": "ipython",
    "version": 3
   },
   "file_extension": ".py",
   "mimetype": "text/x-python",
   "name": "python",
   "nbconvert_exporter": "python",
   "pygments_lexer": "ipython3",
   "version": "3.12.7"
  }
 },
 "nbformat": 4,
 "nbformat_minor": 5
}
