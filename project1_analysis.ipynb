'''
Using the dictionaries containing the pollution data and UHF codes, write a Python program to answer the following questions:
a) What was the highest and lowest pollution measurement ever recorded in zip code 10027?
b) Which UHF id had the worst pollution in 2019.
c) What was the average air pollution in Manhattan in 2008? What was the average pollution in Manhattan in 2019.
d) Come up with at least two other questions to ask about the dataset and write code to answer them.
'''



from project1 import read_air_quality, read_uhf

uhf_dict, date_dict = read_air_quality("air_quality.csv")
zip_to_uhf, borough_to_uhf = read_uhf("uhf.csv")

print("Data loaded successfully"
print(f"Total UHF regions: {len(uhf_dict)}")
print(f"Total dates: {len(date_dict)}")
print(f"Total boroughs: {len(borough_to_uhf)}")

