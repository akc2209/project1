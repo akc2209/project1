{
 "cells": [
  {
   "cell_type": "markdown",
   "id": "fc933a71",
   "metadata": {},
   "source": [
    "NYC Air Quality Analysis (Part 2)\n",
    "\n",
    "This notebook analyzes air quality trends from the NYC pm2.5 dataset  \n",
    "using the functions implemented in Part 1.  \n",
    "We answer:\n",
    "a) Highest and lowest pm2.5 in zip code 10027  \n",
    "b) UHF with the worst pollution in 2019  \n",
    "c) Average pm2.5 in Manhattan in 2008 vs 2019  \n",
    "d) Two additional analytical questions of our choice\n",
    "\n",
    "Data is loaded using the dictionaries created in `project1.py`."
   ]
  },
  {
   "cell_type": "code",
   "execution_count": 52,
   "id": "83434d3e-6661-4221-a22e-2fb6bd91b5f4",
   "metadata": {},
   "outputs": [
    {
     "name": "stdout",
     "output_type": "stream",
     "text": [
      "Loaded for analysis.\n",
      "Records: 1824\n",
      "UHF ids: 49 Dates: 24\n",
      "Zip codes: 184 Boroughs: 5\n"
     ]
    }
   ],
   "source": [
    "from importlib import reload\n",
    "import project1\n",
    "reload(project1)\n",
    "\n",
    "from project1 import read_pollution, read_uhf\n",
    "from statistics import mean\n",
    "from collections import defaultdict\n",
    "\n",
    "by_uhf, by_date = read_pollution()\n",
    "zip_to_uhfs, borough_to_uhfs = read_uhf()\n",
    "\n",
    "print(\"Loaded for analysis.\")\n",
    "print(\"Records:\", sum(len(v) for v in by_uhf.values()))\n",
    "print(\"UHF ids:\", len(by_uhf), \"Dates:\", len(by_date))\n",
    "print(\"Zip codes:\", len(zip_to_uhfs), \"Boroughs:\", len(borough_to_uhfs))\n"
   ]
  },
  {
   "cell_type": "code",
   "execution_count": 58,
   "id": "01bead72-e893-4b96-a4ec-40592fdc8368",
   "metadata": {},
   "outputs": [],
   "source": [
    "def year_of(date_str: str) -> int:\n",
    "    parts = date_str.split(\"/\")\n",
    "    year = int(parts[2])\n",
    "    # Convert 2-digit years to 2000s\n",
    "    if year < 100:\n",
    "        year += 2000\n",
    "    return year\n",
    "\n",
    "\n",
    "def fmt(m):\n",
    "    date, uhf_id, uhf_name, val = m\n",
    "    return f\"{date} UHF {uhf_id} {uhf_name} {val:.2f} mcg/m^3\"\n",
    "\n",
    "def measurements_for_zip(zip_code: str):\n",
    "    out = []\n",
    "    for u in zip_to_uhfs.get(zip_code, []):\n",
    "        out.extend(by_uhf.get(u, []))\n",
    "    return out\n"
   ]
  },
  {
   "cell_type": "code",
   "execution_count": 59,
   "id": "8b7c6074-49c9-4fb9-95ce-5531b2bf2ac7",
   "metadata": {},
   "outputs": [
    {
     "name": "stdout",
     "output_type": "stream",
     "text": [
      "Highest in 10027: 12/1/08 UHF 302 Central Harlem - Morningside Heights 14.56 mcg/m^3\n",
      "Lowest in 10027: 6/1/20 UHF 302 Central Harlem - Morningside Heights 7.36 mcg/m^3\n"
     ]
    }
   ],
   "source": [
    "zip_code = \"10027\"\n",
    "data_10027 = measurements_for_zip(zip_code)\n",
    "\n",
    "if data_10027:\n",
    "    highest = max(data_10027, key=lambda x: x[3])\n",
    "    lowest = min(data_10027, key=lambda x: x[3])\n",
    "    print(\"Highest in 10027:\", fmt(highest))\n",
    "    print(\"Lowest in 10027:\", fmt(lowest))\n",
    "else:\n",
    "    print(\"No data for ZIP\", zip_code)\n"
   ]
  },
  {
   "cell_type": "code",
   "execution_count": 60,
   "id": "77f8fc46-1b67-4485-a80a-0e789a2633c3",
   "metadata": {},
   "outputs": [
    {
     "name": "stdout",
     "output_type": "stream",
     "text": [
      "Worst UHF in 2019 (peak): 12/1/19 UHF 306 Chelsea - Clinton 11.38 mcg/m^3\n"
     ]
    }
   ],
   "source": [
    "all_data = [m for rows in by_uhf.values() for m in rows]\n",
    "data_2019 = [m for m in all_data if year_of(m[0]) == 2019]\n",
    "\n",
    "worst_2019 = max(data_2019, key=lambda x: x[3])\n",
    "print(\"Worst UHF in 2019 (peak):\", fmt(worst_2019))\n"
   ]
  },
  {
   "cell_type": "code",
   "execution_count": 62,
   "id": "70a4830a-9eb5-429a-8879-2a87fe0cbf91",
   "metadata": {},
   "outputs": [
    {
     "name": "stdout",
     "output_type": "stream",
     "text": [
      "Borough improvement 2008 → 2019:\n",
      "\n",
      "Bronx: 14.04 → 7.42, improvement 6.62 mcg/m^3\n",
      "Manhattan: 15.09 → 8.99, improvement 6.11 mcg/m^3\n",
      "Brooklyn: 13.09 → 8.04, improvement 5.05 mcg/m^3\n",
      "Queens: 12.56 → 7.66, improvement 4.90 mcg/m^3\n",
      "Statenisland: 11.93 → 7.19, improvement 4.74 mcg/m^3\n"
     ]
    }
   ],
   "source": [
    "from statistics import mean\n",
    "\n",
    "improvements = []\n",
    "for bor in borough_to_uhfs.keys():\n",
    "    vals_2008 = [m[3] for u in borough_to_uhfs[bor] for m in by_uhf[u] if year_of(m[0]) == 2008]\n",
    "    vals_2019 = [m[3] for u in borough_to_uhfs[bor] for m in by_uhf[u] if year_of(m[0]) == 2019]\n",
    "    \n",
    "    if vals_2008 and vals_2019:\n",
    "        avg_2008 = mean(vals_2008)\n",
    "        avg_2019 = mean(vals_2019)\n",
    "        improvements.append((bor, avg_2008, avg_2019, avg_2008 - avg_2019))\n",
    "\n",
    "improvements.sort(key=lambda x: x[3], reverse=True)\n",
    "\n",
    "print(\"Borough improvement 2008 → 2019:\\n\")\n",
    "for bor, a08, a19, change in improvements:\n",
    "    print(f\"{bor}: {a08:.2f} → {a19:.2f}, improvement {change:.2f} mcg/m^3\")\n"
   ]
  },
  {
   "cell_type": "code",
   "execution_count": 63,
   "id": "ee664c8c-77ec-4a72-8183-b64e751e102a",
   "metadata": {},
   "outputs": [
    {
     "name": "stdout",
     "output_type": "stream",
     "text": [
      "Average pm2.5 by month:\n",
      "Month 1: 9.94 mcg/m^3\n",
      "Month 31: 8.45 mcg/m^3\n",
      "\n",
      "Highest average month: 1 with 9.94 mcg/m^3\n"
     ]
    }
   ],
   "source": [
    "from statistics import mean\n",
    "from collections import defaultdict\n",
    "\n",
    "month_values = defaultdict(list)\n",
    "\n",
    "for u, rows in by_uhf.items():\n",
    "    for date, _, _, val in rows:\n",
    "        month = int(date.split(\"/\")[1])\n",
    "        month_values[month].append(val)\n",
    "\n",
    "month_avgs = {m: mean(v) for m, v in month_values.items()}\n",
    "\n",
    "print(\"Average pm2.5 by month:\")\n",
    "for m in sorted(month_avgs.keys()):\n",
    "    print(f\"Month {m}: {month_avgs[m]:.2f} mcg/m^3\")\n",
    "\n",
    "worst_month = max(month_avgs.items(), key=lambda x: x[1])\n",
    "print(f\"\\nHighest average month: {worst_month[0]} with {worst_month[1]:.2f} mcg/m^3\")\n"
   ]
  },
  {
   "cell_type": "markdown",
   "id": "c9ef1146",
   "metadata": {},
   "source": [
    "## Conclusion\n",
    "\n",
    "This analysis shows:\n",
    "- The worst pm2.5 measurement in 10027 reached dangerous levels\n",
    "- Pollution generally improved between 2008 and 2019\n",
    "- Some neighborhoods in 2019 still experienced high spikes\n",
    "- Pollution varies significantly by month, likely linked to heating and weather patterns\n",
    "\n",
    "New York has reduced particulate air pollution, but further interventions remain important.\n"
   ]
  },
  {
   "cell_type": "code",
   "execution_count": null,
   "id": "9ba0cf03-5616-437b-a456-3926274df1f6",
   "metadata": {},
   "outputs": [],
   "source": []
  }
 ],
 "metadata": {
  "kernelspec": {
   "display_name": "Python [conda env:base] *",
   "language": "python",
   "name": "conda-base-py"
  },
  "language_info": {
   "codemirror_mode": {
    "name": "ipython",
    "version": 3
   },
   "file_extension": ".py",
   "mimetype": "text/x-python",
   "name": "python",
   "nbconvert_exporter": "python",
   "pygments_lexer": "ipython3",
   "version": "3.12.7"
  }
 },
 "nbformat": 4,
 "nbformat_minor": 5
}
